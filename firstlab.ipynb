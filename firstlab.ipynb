{
 "cells": [
  {
   "cell_type": "code",
   "execution_count": 1,
   "id": "adcbb39a-4408-4f07-9b83-1483a4e6e544",
   "metadata": {},
   "outputs": [],
   "source": [
    "N=ord('V') % 10 + 1"
   ]
  },
  {
   "cell_type": "code",
   "execution_count": 2,
   "id": "fe7d36c6-0d82-489e-803d-c5dd5f927bcb",
   "metadata": {},
   "outputs": [
    {
     "data": {
      "text/plain": [
       "7"
      ]
     },
     "execution_count": 2,
     "metadata": {},
     "output_type": "execute_result"
    }
   ],
   "source": [
    "N"
   ]
  },
  {
   "cell_type": "markdown",
   "id": "7895950e-ed65-4234-83a6-410198a75790",
   "metadata": {},
   "source": [
    "# *Ісландія*\n",
    "![Ісландія](https://upload.wikimedia.org/wikipedia/commons/thumb/c/ce/Flag_of_Iceland.svg/125px-Flag_of_Iceland.svg.png)\n",
    "## Загальна інформація\n",
    "\n",
    "Ісландія — країна з неймовірними природними пейзажами, що славиться своїми вулканами, гейзерами та північним сяйвом\n",
    "\n",
    "### Площа та населення\n",
    "\n",
    "|    Показник   | Значення        |\n",
    "|---------------|-----------------|\n",
    "| **Площа**     | 103,000 км²     |\n",
    "| **Населення** | 382,003 осіб    |\n",
    "\n",
    "### <div style=\"color: blue;\">Державний устрій </div>\n",
    "\n",
    "Ісландія є **республікою** з президентом на чолі. Державна система базується на принципах демократичного правління.\n",
    "\n",
    "### <div style=\"color: red;\">Видатні персоналії </div>\n",
    "\n",
    "- **Гуннар Гуннарссон** — відомий ісландський письменник.\n",
    "- **Бйорк** — знаменита співачка та композитор.\n",
    "- **Давид Дагур** — видатний науковець у галузі геології.\n",
    "\n",
    "### <div style=\"color: yellow;\">Пам’ятки культури та природи </div>\n",
    "\n",
    "1. **Гейзер Строккур** — активний гейзер, що вибухає кожні 5-10 хвилин.\n",
    "2. **Національний парк Тінгвеллір** — UNESCO, важливе історичне місце.\n",
    "3. **Водоспад Гульфосс** — один з найкрасивіших водоспадів країни.\n",
    "\n",
    "#### Визначні природні явища\n",
    "\n",
    "**Північне сяйво** та **Лавові поля**\n",
    "\n",
    "### Гіперпосилання\n",
    "\n",
    "Детальніше на [Wikipedia](https://uk.wikipedia.org/wiki/Ісландія).\n"
   ]
  },
  {
   "cell_type": "code",
   "execution_count": 40,
   "id": "6490a8e7-c709-486c-b7bb-7c75e9d89e0e",
   "metadata": {},
   "outputs": [
    {
     "data": {
      "text/html": [
       "\n",
       "<h1>Ісландія</h1>\n",
       "\n",
       "<svg width=\"640\" height=\"461\">\n",
       "  <rect width=\"640\" height=\"461\" fill=\"#02529C\" />\n",
       "  <rect x=\"150\" width=\"70\" height=\"461\" fill=\"#FFFFFF\" />\n",
       "  <rect y=\"195.5\" width=\"640\" height=\"70\" fill=\"#FFFFFF\" />\n",
       "  <rect x=\"165\" width=\"40\" height=\"461\" fill=\"#DC1E35\" />\n",
       "  <rect y=\"210.5\" width=\"640\" height=\"40\" fill=\"#DC1E35\" />\n",
       "</svg>\n"
      ],
      "text/plain": [
       "<IPython.core.display.HTML object>"
      ]
     },
     "metadata": {},
     "output_type": "display_data"
    }
   ],
   "source": [
    "%%HTML\n",
    "\n",
    "<h1>Ісландія</h1>\n",
    "\n",
    "<svg width=\"640\" height=\"461\">\n",
    "  <rect width=\"640\" height=\"461\" fill=\"#02529C\" />\n",
    "  <rect x=\"150\" width=\"70\" height=\"461\" fill=\"#FFFFFF\" />\n",
    "  <rect y=\"195.5\" width=\"640\" height=\"70\" fill=\"#FFFFFF\" />\n",
    "  <rect x=\"165\" width=\"40\" height=\"461\" fill=\"#DC1E35\" />\n",
    "  <rect y=\"210.5\" width=\"640\" height=\"40\" fill=\"#DC1E35\" />\n",
    "</svg>"
   ]
  },
  {
   "cell_type": "code",
   "execution_count": 4,
   "id": "cdae5c4d-0889-474a-8296-9a6ecd49d51d",
   "metadata": {},
   "outputs": [
    {
     "name": "stdout",
     "output_type": "stream",
     "text": [
      "0|110.01\n",
      "0|110.0001100110011001100110011001100110011001100110011\n",
      "1|11100\n",
      "1|111\n"
     ]
    }
   ],
   "source": [
    "def task_7(num):\n",
    "    if num<0:\n",
    "        sign = '1'\n",
    "        num = abs(num)\n",
    "    else:\n",
    "        sign = '0'\n",
    "        \n",
    "    b=''\n",
    "    c=''\n",
    "    num_int = int(num)\n",
    "    num_fraction = num - num_int\n",
    "    \n",
    "    while num_int > 0:\n",
    "        b = str(num_int%2)+b\n",
    "        num_int = num_int // 2\n",
    "    \n",
    "    if num_fraction == 0:\n",
    "        return sign + '|' + b\n",
    "    \n",
    "    while num_fraction > 0:\n",
    "        num_fraction=num_fraction*2\n",
    "        bit=int(num_fraction)\n",
    "        c += str(bit)\n",
    "        num_fraction=num_fraction-bit\n",
    "    return sign + '|' + b + '.' + c\n",
    "\n",
    "print(task_7(6.25))\n",
    "print(task_7(6.1))\n",
    "print(task_7(-28))\n",
    "print(task_7(-7))"
   ]
  },
  {
   "cell_type": "code",
   "execution_count": null,
   "id": "c2e00f88-dad6-4b71-8cb6-3cd93ad65ce6",
   "metadata": {},
   "outputs": [],
   "source": []
  }
 ],
 "metadata": {
  "kernelspec": {
   "display_name": "Python 3 (ipykernel)",
   "language": "python",
   "name": "python3"
  },
  "language_info": {
   "codemirror_mode": {
    "name": "ipython",
    "version": 3
   },
   "file_extension": ".py",
   "mimetype": "text/x-python",
   "name": "python",
   "nbconvert_exporter": "python",
   "pygments_lexer": "ipython3",
   "version": "3.12.4"
  }
 },
 "nbformat": 4,
 "nbformat_minor": 5
}
